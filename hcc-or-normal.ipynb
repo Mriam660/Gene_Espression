{
 "cells": [
  {
   "cell_type": "code",
   "execution_count": 1,
   "id": "12e7d22e",
   "metadata": {
    "execution": {
     "iopub.execute_input": "2024-06-06T17:14:12.119258Z",
     "iopub.status.busy": "2024-06-06T17:14:12.118790Z",
     "iopub.status.idle": "2024-06-06T17:14:15.493004Z",
     "shell.execute_reply": "2024-06-06T17:14:15.491620Z"
    },
    "papermill": {
     "duration": 3.388039,
     "end_time": "2024-06-06T17:14:15.495928",
     "exception": false,
     "start_time": "2024-06-06T17:14:12.107889",
     "status": "completed"
    },
    "tags": []
   },
   "outputs": [],
   "source": [
    "import numpy as np \n",
    "import pandas as pd\n",
    "\n",
    "from sklearn.preprocessing import StandardScaler\n",
    "import matplotlib.pyplot as plt\n",
    "import seaborn as sns\n",
    "from sklearn.model_selection import train_test_split\n",
    "from sklearn.model_selection import cross_val_score\n",
    "from sklearn.metrics import accuracy_score, confusion_matrix, ConfusionMatrixDisplay\n",
    "from sklearn.linear_model import LogisticRegression"
   ]
  },
  {
   "cell_type": "code",
   "execution_count": 2,
   "id": "6c6ca0bc",
   "metadata": {
    "_cell_guid": "b1076dfc-b9ad-4769-8c92-a6c4dae69d19",
    "_uuid": "8f2839f25d086af736a60e9eeb907d3b93b6e0e5",
    "execution": {
     "iopub.execute_input": "2024-06-06T17:14:15.518337Z",
     "iopub.status.busy": "2024-06-06T17:14:15.517716Z",
     "iopub.status.idle": "2024-06-06T17:14:27.188826Z",
     "shell.execute_reply": "2024-06-06T17:14:27.187539Z"
    },
    "papermill": {
     "duration": 11.685921,
     "end_time": "2024-06-06T17:14:27.192210",
     "exception": false,
     "start_time": "2024-06-06T17:14:15.506289",
     "status": "completed"
    },
    "tags": []
   },
   "outputs": [],
   "source": [
    "df1 = pd.read_csv(\"/kaggle/input/gene-expression/Liver_GSE14520_U133A.csv\")\n",
    "df2 = pd.read_csv(\"/kaggle/input/gene-expression/Liver_GSE14520_U133_2.csv\")\n",
    "df3 = pd.read_csv(\"/kaggle/input/gene-expression/Liver_GSE22405.csv\")\n",
    "df4 = pd.read_csv(\"/kaggle/input/gene-expression/Liver_GSE60502.csv\")"
   ]
  },
  {
   "cell_type": "code",
   "execution_count": 3,
   "id": "487ba232",
   "metadata": {
    "execution": {
     "iopub.execute_input": "2024-06-06T17:14:27.211855Z",
     "iopub.status.busy": "2024-06-06T17:14:27.211429Z",
     "iopub.status.idle": "2024-06-06T17:14:58.506979Z",
     "shell.execute_reply": "2024-06-06T17:14:58.505614Z"
    },
    "papermill": {
     "duration": 31.309269,
     "end_time": "2024-06-06T17:14:58.510437",
     "exception": false,
     "start_time": "2024-06-06T17:14:27.201168",
     "status": "completed"
    },
    "tags": []
   },
   "outputs": [],
   "source": [
    "data1 = df1.drop(columns =[\"samples\"], axis=1)\n",
    "data1 = data1.drop(264)\n",
    "data1.to_csv(\"/kaggle/working/Liver_GSE14520_U133A.csv\")\n",
    "\n",
    "data2 = df2.drop(columns =[\"samples\"], axis=1)\n",
    "data2.to_csv(\"/kaggle/working/Liver_GSE22405.csv\")\n",
    "\n",
    "data3 = df3.drop(columns =[\"samples\"], axis=1)\n",
    "data3['type'] = data3['type'].replace(['heptocarcinoma'],['HCC'])\n",
    "data3.to_csv(\"/kaggle/working/Liver_GSE60502.csv\")\n",
    "\n",
    "data4 = df4.drop(columns =[\"samples\"], axis=1)\n",
    "data4.to_csv(\"/kaggle/working/Liver_GSE60502.csv\")"
   ]
  },
  {
   "cell_type": "code",
   "execution_count": 4,
   "id": "ddf9097f",
   "metadata": {
    "execution": {
     "iopub.execute_input": "2024-06-06T17:14:58.530409Z",
     "iopub.status.busy": "2024-06-06T17:14:58.530028Z",
     "iopub.status.idle": "2024-06-06T17:15:01.558867Z",
     "shell.execute_reply": "2024-06-06T17:15:01.557374Z"
    },
    "papermill": {
     "duration": 3.043182,
     "end_time": "2024-06-06T17:15:01.562425",
     "exception": false,
     "start_time": "2024-06-06T17:14:58.519243",
     "status": "completed"
    },
    "tags": []
   },
   "outputs": [],
   "source": [
    "result = pd.concat([data1,data2,data3, data4])"
   ]
  },
  {
   "cell_type": "code",
   "execution_count": 5,
   "id": "a6584504",
   "metadata": {
    "execution": {
     "iopub.execute_input": "2024-06-06T17:15:01.583835Z",
     "iopub.status.busy": "2024-06-06T17:15:01.582105Z",
     "iopub.status.idle": "2024-06-06T17:15:02.776601Z",
     "shell.execute_reply": "2024-06-06T17:15:02.775343Z"
    },
    "papermill": {
     "duration": 1.208233,
     "end_time": "2024-06-06T17:15:02.779445",
     "exception": false,
     "start_time": "2024-06-06T17:15:01.571212",
     "status": "completed"
    },
    "tags": []
   },
   "outputs": [],
   "source": [
    "result2 = result.drop(columns =[\"AFFX-r2-Hs18SrRNA-3_s_at\", \"AFFX-r2-Hs18SrRNA-5_at\",\"AFFX-r2-Hs18SrRNA-M_x_at\", \"AFFX-r2-Hs28SrRNA-3_at\", \"AFFX-r2-Hs28SrRNA-5_at\", \"AFFX-r2-Hs28SrRNA-M_at\"])"
   ]
  },
  {
   "cell_type": "code",
   "execution_count": 6,
   "id": "8b3977b0",
   "metadata": {
    "execution": {
     "iopub.execute_input": "2024-06-06T17:15:02.799128Z",
     "iopub.status.busy": "2024-06-06T17:15:02.798696Z",
     "iopub.status.idle": "2024-06-06T17:15:03.035575Z",
     "shell.execute_reply": "2024-06-06T17:15:03.034260Z"
    },
    "papermill": {
     "duration": 0.249689,
     "end_time": "2024-06-06T17:15:03.038389",
     "exception": false,
     "start_time": "2024-06-06T17:15:02.788700",
     "status": "completed"
    },
    "tags": []
   },
   "outputs": [
    {
     "data": {
      "text/plain": [
       "<Axes: xlabel='type', ylabel='count'>"
      ]
     },
     "execution_count": 6,
     "metadata": {},
     "output_type": "execute_result"
    },
    {
     "data": {
      "image/png": "[encoded data removed]",
      "text/plain": [
       "<Figure size 640x480 with 1 Axes>"
      ]
     },
     "metadata": {},
     "output_type": "display_data"
    }
   ],
   "source": [
    "sns.countplot(x = result2[\"type\"])"
   ]
  },
  {
   "cell_type": "code",
   "execution_count": 7,
   "id": "c54bf147",
   "metadata": {
    "execution": {
     "iopub.execute_input": "2024-06-06T17:15:03.060218Z",
     "iopub.status.busy": "2024-06-06T17:15:03.059741Z",
     "iopub.status.idle": "2024-06-06T17:15:03.101923Z",
     "shell.execute_reply": "2024-06-06T17:15:03.100688Z"
    },
    "papermill": {
     "duration": 0.056435,
     "end_time": "2024-06-06T17:15:03.104717",
     "exception": false,
     "start_time": "2024-06-06T17:15:03.048282",
     "status": "completed"
    },
    "tags": []
   },
   "outputs": [
    {
     "data": {
      "text/plain": [
       "Index(['type'], dtype='object')"
      ]
     },
     "execution_count": 7,
     "metadata": {},
     "output_type": "execute_result"
    }
   ],
   "source": [
    "cat_list = result2.select_dtypes(include = \"object\").columns\n",
    "cat_list"
   ]
  },
  {
   "cell_type": "code",
   "execution_count": 8,
   "id": "383a9a8d",
   "metadata": {
    "execution": {
     "iopub.execute_input": "2024-06-06T17:15:03.126415Z",
     "iopub.status.busy": "2024-06-06T17:15:03.126022Z",
     "iopub.status.idle": "2024-06-06T17:15:03.134995Z",
     "shell.execute_reply": "2024-06-06T17:15:03.133200Z"
    },
    "papermill": {
     "duration": 0.023878,
     "end_time": "2024-06-06T17:15:03.138412",
     "exception": false,
     "start_time": "2024-06-06T17:15:03.114534",
     "status": "completed"
    },
    "tags": []
   },
   "outputs": [],
   "source": [
    "def change(value):\n",
    "  if value == 'normal':\n",
    "    return 1\n",
    "  else:\n",
    "    return 0\n",
    "\n",
    "result2['type'] = result2['type'].apply(change)"
   ]
  },
  {
   "cell_type": "code",
   "execution_count": 9,
   "id": "528a259c",
   "metadata": {
    "execution": {
     "iopub.execute_input": "2024-06-06T17:15:03.159940Z",
     "iopub.status.busy": "2024-06-06T17:15:03.158780Z",
     "iopub.status.idle": "2024-06-06T17:15:04.621946Z",
     "shell.execute_reply": "2024-06-06T17:15:04.620596Z"
    },
    "papermill": {
     "duration": 1.477013,
     "end_time": "2024-06-06T17:15:04.624903",
     "exception": false,
     "start_time": "2024-06-06T17:15:03.147890",
     "status": "completed"
    },
    "tags": []
   },
   "outputs": [],
   "source": [
    "x = result2.drop(\"type\" , axis = 1).values\n",
    "y = result2['type'].values"
   ]
  },
  {
   "cell_type": "code",
   "execution_count": 10,
   "id": "97f2491d",
   "metadata": {
    "execution": {
     "iopub.execute_input": "2024-06-06T17:15:04.645447Z",
     "iopub.status.busy": "2024-06-06T17:15:04.645028Z",
     "iopub.status.idle": "2024-06-06T17:15:04.792751Z",
     "shell.execute_reply": "2024-06-06T17:15:04.791292Z"
    },
    "papermill": {
     "duration": 0.161707,
     "end_time": "2024-06-06T17:15:04.796084",
     "exception": false,
     "start_time": "2024-06-06T17:15:04.634377",
     "status": "completed"
    },
    "tags": []
   },
   "outputs": [],
   "source": [
    "from sklearn.model_selection import train_test_split\n",
    "x_train, x_test, y_train, y_test = train_test_split(x, y, test_size = 0.20, random_state = 42)"
   ]
  },
  {
   "cell_type": "code",
   "execution_count": 11,
   "id": "71f66963",
   "metadata": {
    "execution": {
     "iopub.execute_input": "2024-06-06T17:15:04.816569Z",
     "iopub.status.busy": "2024-06-06T17:15:04.816175Z",
     "iopub.status.idle": "2024-06-06T17:15:04.974393Z",
     "shell.execute_reply": "2024-06-06T17:15:04.973043Z"
    },
    "papermill": {
     "duration": 0.17203,
     "end_time": "2024-06-06T17:15:04.977512",
     "exception": false,
     "start_time": "2024-06-06T17:15:04.805482",
     "status": "completed"
    },
    "tags": []
   },
   "outputs": [],
   "source": [
    "from sklearn.preprocessing import StandardScaler\n",
    "sc = StandardScaler()\n",
    "\n",
    "x_train = sc.fit_transform(x_train)\n",
    "x_test = sc.transform(x_test)"
   ]
  },
  {
   "cell_type": "code",
   "execution_count": 12,
   "id": "aee0dde2",
   "metadata": {
    "execution": {
     "iopub.execute_input": "2024-06-06T17:15:04.997939Z",
     "iopub.status.busy": "2024-06-06T17:15:04.997551Z",
     "iopub.status.idle": "2024-06-06T17:15:05.003766Z",
     "shell.execute_reply": "2024-06-06T17:15:05.002368Z"
    },
    "papermill": {
     "duration": 0.019471,
     "end_time": "2024-06-06T17:15:05.006406",
     "exception": false,
     "start_time": "2024-06-06T17:15:04.986935",
     "status": "completed"
    },
    "tags": []
   },
   "outputs": [],
   "source": [
    "from sklearn.linear_model import LogisticRegression\n",
    "lr = LogisticRegression(penalty= 'l2', C = 0.5)"
   ]
  },
  {
   "cell_type": "code",
   "execution_count": 13,
   "id": "314b76da",
   "metadata": {
    "execution": {
     "iopub.execute_input": "2024-06-06T17:15:05.028341Z",
     "iopub.status.busy": "2024-06-06T17:15:05.027840Z",
     "iopub.status.idle": "2024-06-06T17:15:07.467862Z",
     "shell.execute_reply": "2024-06-06T17:15:07.465978Z"
    },
    "papermill": {
     "duration": 2.456141,
     "end_time": "2024-06-06T17:15:07.472734",
     "exception": false,
     "start_time": "2024-06-06T17:15:05.016593",
     "status": "completed"
    },
    "tags": []
   },
   "outputs": [
    {
     "name": "stderr",
     "output_type": "stream",
     "text": [
      "/opt/conda/lib/python3.10/site-packages/sklearn/linear_model/_logistic.py:458: ConvergenceWarning: lbfgs failed to converge (status=1):\n",
      "STOP: TOTAL NO. of ITERATIONS REACHED LIMIT.\n",
      "\n",
      "Increase the number of iterations (max_iter) or scale the data as shown in:\n",
      "    https://scikit-learn.org/stable/modules/preprocessing.html\n",
      "Please also refer to the documentation for alternative solver options:\n",
      "    https://scikit-learn.org/stable/modules/linear_model.html#logistic-regression\n",
      "  n_iter_i = _check_optimize_result(\n"
     ]
    },
    {
     "data": {
      "text/html": [
       "<style>#sk-container-id-1 {color: black;background-color: white;}#sk-container-id-1 pre{padding: 0;}#sk-container-id-1 div.sk-toggleable {background-color: white;}#sk-container-id-1 label.sk-toggleable__label {cursor: pointer;display: block;width: 100%;margin-bottom: 0;padding: 0.3em;box-sizing: border-box;text-align: center;}#sk-container-id-1 label.sk-toggleable__label-arrow:before {content: \"▸\";float: left;margin-right: 0.25em;color: #696969;}#sk-container-id-1 label.sk-toggleable__label-arrow:hover:before {color: black;}#sk-container-id-1 div.sk-estimator:hover label.sk-toggleable__label-arrow:before {color: black;}#sk-container-id-1 div.sk-toggleable__content {max-height: 0;max-width: 0;overflow: hidden;text-align: left;background-color: #f0f8ff;}#sk-container-id-1 div.sk-toggleable__content pre {margin: 0.2em;color: black;border-radius: 0.25em;background-color: #f0f8ff;}#sk-container-id-1 input.sk-toggleable__control:checked~div.sk-toggleable__content {max-height: 200px;max-width: 100%;overflow: auto;}#sk-container-id-1 input.sk-toggleable__control:checked~label.sk-toggleable__label-arrow:before {content: \"▾\";}#sk-container-id-1 div.sk-estimator input.sk-toggleable__control:checked~label.sk-toggleable__label {background-color: #d4ebff;}#sk-container-id-1 div.sk-label input.sk-toggleable__control:checked~label.sk-toggleable__label {background-color: #d4ebff;}#sk-container-id-1 input.sk-hidden--visually {border: 0;clip: rect(1px 1px 1px 1px);clip: rect(1px, 1px, 1px, 1px);height: 1px;margin: -1px;overflow: hidden;padding: 0;position: absolute;width: 1px;}#sk-container-id-1 div.sk-estimator {font-family: monospace;background-color: #f0f8ff;border: 1px dotted black;border-radius: 0.25em;box-sizing: border-box;margin-bottom: 0.5em;}#sk-container-id-1 div.sk-estimator:hover {background-color: #d4ebff;}#sk-container-id-1 div.sk-parallel-item::after {content: \"\";width: 100%;border-bottom: 1px solid gray;flex-grow: 1;}#sk-container-id-1 div.sk-label:hover label.sk-toggleable__label {background-color: #d4ebff;}#sk-container-id-1 div.sk-serial::before {content: \"\";position: absolute;border-left: 1px solid gray;box-sizing: border-box;top: 0;bottom: 0;left: 50%;z-index: 0;}#sk-container-id-1 div.sk-serial {display: flex;flex-direction: column;align-items: center;background-color: white;padding-right: 0.2em;padding-left: 0.2em;position: relative;}#sk-container-id-1 div.sk-item {position: relative;z-index: 1;}#sk-container-id-1 div.sk-parallel {display: flex;align-items: stretch;justify-content: center;background-color: white;position: relative;}#sk-container-id-1 div.sk-item::before, #sk-container-id-1 div.sk-parallel-item::before {content: \"\";position: absolute;border-left: 1px solid gray;box-sizing: border-box;top: 0;bottom: 0;left: 50%;z-index: -1;}#sk-container-id-1 div.sk-parallel-item {display: flex;flex-direction: column;z-index: 1;position: relative;background-color: white;}#sk-container-id-1 div.sk-parallel-item:first-child::after {align-self: flex-end;width: 50%;}#sk-container-id-1 div.sk-parallel-item:last-child::after {align-self: flex-start;width: 50%;}#sk-container-id-1 div.sk-parallel-item:only-child::after {width: 0;}#sk-container-id-1 div.sk-dashed-wrapped {border: 1px dashed gray;margin: 0 0.4em 0.5em 0.4em;box-sizing: border-box;padding-bottom: 0.4em;background-color: white;}#sk-container-id-1 div.sk-label label {font-family: monospace;font-weight: bold;display: inline-block;line-height: 1.2em;}#sk-container-id-1 div.sk-label-container {text-align: center;}#sk-container-id-1 div.sk-container {/* jupyter's `normalize.less` sets `[hidden] { display: none; }` but bootstrap.min.css set `[hidden] { display: none !important; }` so we also need the `!important` here to be able to override the default hidden behavior on the sphinx rendered scikit-learn.org. See: https://github.com/scikit-learn/scikit-learn/issues/21755 */display: inline-block !important;position: relative;}#sk-container-id-1 div.sk-text-repr-fallback {display: none;}</style><div id=\"sk-container-id-1\" class=\"sk-top-container\"><div class=\"sk-text-repr-fallback\"><pre>LogisticRegression(C=0.5)</pre><b>In a Jupyter environment, please rerun this cell to show the HTML representation or trust the notebook. <br />On GitHub, the HTML representation is unable to render, please try loading this page with nbviewer.org.</b></div><div class=\"sk-container\" hidden><div class=\"sk-item\"><div class=\"sk-estimator sk-toggleable\"><input class=\"sk-toggleable__control sk-hidden--visually\" id=\"sk-estimator-id-1\" type=\"checkbox\" checked><label for=\"sk-estimator-id-1\" class=\"sk-toggleable__label sk-toggleable__label-arrow\">LogisticRegression</label><div class=\"sk-toggleable__content\"><pre>LogisticRegression(C=0.5)</pre></div></div></div></div></div>"
      ],
      "text/plain": [
       "LogisticRegression(C=0.5)"
      ]
     },
     "execution_count": 13,
     "metadata": {},
     "output_type": "execute_result"
    }
   ],
   "source": [
    "lr.fit(x_train, y_train)"
   ]
  },
  {
   "cell_type": "code",
   "execution_count": 14,
   "id": "bc3a440e",
   "metadata": {
    "execution": {
     "iopub.execute_input": "2024-06-06T17:15:07.561442Z",
     "iopub.status.busy": "2024-06-06T17:15:07.560900Z",
     "iopub.status.idle": "2024-06-06T17:15:07.588559Z",
     "shell.execute_reply": "2024-06-06T17:15:07.586870Z"
    },
    "papermill": {
     "duration": 0.074656,
     "end_time": "2024-06-06T17:15:07.592921",
     "exception": false,
     "start_time": "2024-06-06T17:15:07.518265",
     "status": "completed"
    },
    "tags": []
   },
   "outputs": [
    {
     "name": "stdout",
     "output_type": "stream",
     "text": [
      "1.0\n",
      "0.9690721649484536\n"
     ]
    }
   ],
   "source": [
    "print(lr.score(x_train , y_train))\n",
    "print(lr.score(x_test , y_test))"
   ]
  },
  {
   "cell_type": "code",
   "execution_count": 15,
   "id": "8422b011",
   "metadata": {
    "execution": {
     "iopub.execute_input": "2024-06-06T17:15:07.637371Z",
     "iopub.status.busy": "2024-06-06T17:15:07.636614Z",
     "iopub.status.idle": "2024-06-06T17:15:07.650918Z",
     "shell.execute_reply": "2024-06-06T17:15:07.647596Z"
    },
    "papermill": {
     "duration": 0.046562,
     "end_time": "2024-06-06T17:15:07.660666",
     "exception": false,
     "start_time": "2024-06-06T17:15:07.614104",
     "status": "completed"
    },
    "tags": []
   },
   "outputs": [],
   "source": [
    "y_pred = lr.predict(x_test)\n",
    "y_true = y_test"
   ]
  },
  {
   "cell_type": "code",
   "execution_count": 16,
   "id": "15c0aa81",
   "metadata": {
    "execution": {
     "iopub.execute_input": "2024-06-06T17:15:07.710720Z",
     "iopub.status.busy": "2024-06-06T17:15:07.710036Z",
     "iopub.status.idle": "2024-06-06T17:15:07.788611Z",
     "shell.execute_reply": "2024-06-06T17:15:07.785283Z"
    },
    "papermill": {
     "duration": 0.10679,
     "end_time": "2024-06-06T17:15:07.793227",
     "exception": false,
     "start_time": "2024-06-06T17:15:07.686437",
     "status": "completed"
    },
    "tags": []
   },
   "outputs": [],
   "source": [
    "result2 = pd.DataFrame({\"Y_test\": y_test, \"y_pred\": y_pred})"
   ]
  },
  {
   "cell_type": "code",
   "execution_count": 17,
   "id": "b2b6587b",
   "metadata": {
    "execution": {
     "iopub.execute_input": "2024-06-06T17:15:07.815499Z",
     "iopub.status.busy": "2024-06-06T17:15:07.815031Z",
     "iopub.status.idle": "2024-06-06T17:15:07.824439Z",
     "shell.execute_reply": "2024-06-06T17:15:07.822703Z"
    },
    "papermill": {
     "duration": 0.023731,
     "end_time": "2024-06-06T17:15:07.827277",
     "exception": false,
     "start_time": "2024-06-06T17:15:07.803546",
     "status": "completed"
    },
    "tags": []
   },
   "outputs": [
    {
     "name": "stdout",
     "output_type": "stream",
     "text": [
      "0.9690721649484536\n"
     ]
    }
   ],
   "source": [
    "from sklearn.metrics import accuracy_score\n",
    "print(accuracy_score(y_test, y_pred))"
   ]
  },
  {
   "cell_type": "code",
   "execution_count": 18,
   "id": "f45861eb",
   "metadata": {
    "execution": {
     "iopub.execute_input": "2024-06-06T17:15:07.850262Z",
     "iopub.status.busy": "2024-06-06T17:15:07.849737Z",
     "iopub.status.idle": "2024-06-06T17:15:07.856195Z",
     "shell.execute_reply": "2024-06-06T17:15:07.854763Z"
    },
    "papermill": {
     "duration": 0.020871,
     "end_time": "2024-06-06T17:15:07.859325",
     "exception": false,
     "start_time": "2024-06-06T17:15:07.838454",
     "status": "completed"
    },
    "tags": []
   },
   "outputs": [],
   "source": [
    "from sklearn.model_selection import cross_val_score, KFold\n",
    "K_fold = KFold (n_splits = 10, shuffle = True, random_state = 42)"
   ]
  },
  {
   "cell_type": "code",
   "execution_count": 19,
   "id": "91218680",
   "metadata": {
    "execution": {
     "iopub.execute_input": "2024-06-06T17:15:07.881392Z",
     "iopub.status.busy": "2024-06-06T17:15:07.880843Z",
     "iopub.status.idle": "2024-06-06T17:15:34.285211Z",
     "shell.execute_reply": "2024-06-06T17:15:34.281199Z"
    },
    "papermill": {
     "duration": 26.420419,
     "end_time": "2024-06-06T17:15:34.289793",
     "exception": false,
     "start_time": "2024-06-06T17:15:07.869374",
     "status": "completed"
    },
    "tags": []
   },
   "outputs": [
    {
     "name": "stderr",
     "output_type": "stream",
     "text": [
      "/opt/conda/lib/python3.10/site-packages/sklearn/linear_model/_logistic.py:458: ConvergenceWarning: lbfgs failed to converge (status=1):\n",
      "STOP: TOTAL NO. of ITERATIONS REACHED LIMIT.\n",
      "\n",
      "Increase the number of iterations (max_iter) or scale the data as shown in:\n",
      "    https://scikit-learn.org/stable/modules/preprocessing.html\n",
      "Please also refer to the documentation for alternative solver options:\n",
      "    https://scikit-learn.org/stable/modules/linear_model.html#logistic-regression\n",
      "  n_iter_i = _check_optimize_result(\n",
      "/opt/conda/lib/python3.10/site-packages/sklearn/linear_model/_logistic.py:458: ConvergenceWarning: lbfgs failed to converge (status=1):\n",
      "STOP: TOTAL NO. of ITERATIONS REACHED LIMIT.\n",
      "\n",
      "Increase the number of iterations (max_iter) or scale the data as shown in:\n",
      "    https://scikit-learn.org/stable/modules/preprocessing.html\n",
      "Please also refer to the documentation for alternative solver options:\n",
      "    https://scikit-learn.org/stable/modules/linear_model.html#logistic-regression\n",
      "  n_iter_i = _check_optimize_result(\n",
      "/opt/conda/lib/python3.10/site-packages/sklearn/linear_model/_logistic.py:458: ConvergenceWarning: lbfgs failed to converge (status=1):\n",
      "STOP: TOTAL NO. of ITERATIONS REACHED LIMIT.\n",
      "\n",
      "Increase the number of iterations (max_iter) or scale the data as shown in:\n",
      "    https://scikit-learn.org/stable/modules/preprocessing.html\n",
      "Please also refer to the documentation for alternative solver options:\n",
      "    https://scikit-learn.org/stable/modules/linear_model.html#logistic-regression\n",
      "  n_iter_i = _check_optimize_result(\n",
      "/opt/conda/lib/python3.10/site-packages/sklearn/linear_model/_logistic.py:458: ConvergenceWarning: lbfgs failed to converge (status=1):\n",
      "STOP: TOTAL NO. of ITERATIONS REACHED LIMIT.\n",
      "\n",
      "Increase the number of iterations (max_iter) or scale the data as shown in:\n",
      "    https://scikit-learn.org/stable/modules/preprocessing.html\n",
      "Please also refer to the documentation for alternative solver options:\n",
      "    https://scikit-learn.org/stable/modules/linear_model.html#logistic-regression\n",
      "  n_iter_i = _check_optimize_result(\n",
      "/opt/conda/lib/python3.10/site-packages/sklearn/linear_model/_logistic.py:458: ConvergenceWarning: lbfgs failed to converge (status=1):\n",
      "STOP: TOTAL NO. of ITERATIONS REACHED LIMIT.\n",
      "\n",
      "Increase the number of iterations (max_iter) or scale the data as shown in:\n",
      "    https://scikit-learn.org/stable/modules/preprocessing.html\n",
      "Please also refer to the documentation for alternative solver options:\n",
      "    https://scikit-learn.org/stable/modules/linear_model.html#logistic-regression\n",
      "  n_iter_i = _check_optimize_result(\n",
      "/opt/conda/lib/python3.10/site-packages/sklearn/linear_model/_logistic.py:458: ConvergenceWarning: lbfgs failed to converge (status=1):\n",
      "STOP: TOTAL NO. of ITERATIONS REACHED LIMIT.\n",
      "\n",
      "Increase the number of iterations (max_iter) or scale the data as shown in:\n",
      "    https://scikit-learn.org/stable/modules/preprocessing.html\n",
      "Please also refer to the documentation for alternative solver options:\n",
      "    https://scikit-learn.org/stable/modules/linear_model.html#logistic-regression\n",
      "  n_iter_i = _check_optimize_result(\n",
      "/opt/conda/lib/python3.10/site-packages/sklearn/linear_model/_logistic.py:458: ConvergenceWarning: lbfgs failed to converge (status=1):\n",
      "STOP: TOTAL NO. of ITERATIONS REACHED LIMIT.\n",
      "\n",
      "Increase the number of iterations (max_iter) or scale the data as shown in:\n",
      "    https://scikit-learn.org/stable/modules/preprocessing.html\n",
      "Please also refer to the documentation for alternative solver options:\n",
      "    https://scikit-learn.org/stable/modules/linear_model.html#logistic-regression\n",
      "  n_iter_i = _check_optimize_result(\n",
      "/opt/conda/lib/python3.10/site-packages/sklearn/linear_model/_logistic.py:458: ConvergenceWarning: lbfgs failed to converge (status=1):\n",
      "STOP: TOTAL NO. of ITERATIONS REACHED LIMIT.\n",
      "\n",
      "Increase the number of iterations (max_iter) or scale the data as shown in:\n",
      "    https://scikit-learn.org/stable/modules/preprocessing.html\n",
      "Please also refer to the documentation for alternative solver options:\n",
      "    https://scikit-learn.org/stable/modules/linear_model.html#logistic-regression\n",
      "  n_iter_i = _check_optimize_result(\n",
      "/opt/conda/lib/python3.10/site-packages/sklearn/linear_model/_logistic.py:458: ConvergenceWarning: lbfgs failed to converge (status=1):\n",
      "STOP: TOTAL NO. of ITERATIONS REACHED LIMIT.\n",
      "\n",
      "Increase the number of iterations (max_iter) or scale the data as shown in:\n",
      "    https://scikit-learn.org/stable/modules/preprocessing.html\n",
      "Please also refer to the documentation for alternative solver options:\n",
      "    https://scikit-learn.org/stable/modules/linear_model.html#logistic-regression\n",
      "  n_iter_i = _check_optimize_result(\n"
     ]
    },
    {
     "name": "stdout",
     "output_type": "stream",
     "text": [
      "[0.95918367 1.         0.97916667 0.95833333 0.97916667 0.95833333\n",
      " 1.         0.89583333 0.97916667 0.95833333]\n"
     ]
    },
    {
     "name": "stderr",
     "output_type": "stream",
     "text": [
      "/opt/conda/lib/python3.10/site-packages/sklearn/linear_model/_logistic.py:458: ConvergenceWarning: lbfgs failed to converge (status=1):\n",
      "STOP: TOTAL NO. of ITERATIONS REACHED LIMIT.\n",
      "\n",
      "Increase the number of iterations (max_iter) or scale the data as shown in:\n",
      "    https://scikit-learn.org/stable/modules/preprocessing.html\n",
      "Please also refer to the documentation for alternative solver options:\n",
      "    https://scikit-learn.org/stable/modules/linear_model.html#logistic-regression\n",
      "  n_iter_i = _check_optimize_result(\n"
     ]
    }
   ],
   "source": [
    "scoring  = \"accuracy\"\n",
    "score = cross_val_score(lr, x, y, cv = K_fold, scoring = scoring)\n",
    "print (score)"
   ]
  },
  {
   "cell_type": "code",
   "execution_count": 20,
   "id": "3cb596a0",
   "metadata": {
    "execution": {
     "iopub.execute_input": "2024-06-06T17:15:34.361740Z",
     "iopub.status.busy": "2024-06-06T17:15:34.361330Z",
     "iopub.status.idle": "2024-06-06T17:15:34.396032Z",
     "shell.execute_reply": "2024-06-06T17:15:34.394786Z"
    },
    "papermill": {
     "duration": 0.064369,
     "end_time": "2024-06-06T17:15:34.400828",
     "exception": false,
     "start_time": "2024-06-06T17:15:34.336459",
     "status": "completed"
    },
    "tags": []
   },
   "outputs": [
    {
     "name": "stdout",
     "output_type": "stream",
     "text": [
      "Normal\n"
     ]
    }
   ],
   "source": [
    "input_sequence = [7.803370,\t4.134075,\t3.433113,\t5.395057,\t3.476944,\t5.825713,\t3.505036,\t3.687333,\t4.515175,\t10.892460,\t10.416151,\t12.356337,\t11.888482,\t3.839367,\t3.598851,\t3.516791,\t3.484089,\t3.282626,\t3.512024]\n",
    "Input_len = len(input_sequence)\n",
    "for i in range(22277 - Input_len):\n",
    "   input_sequence.append(0)\n",
    "input_sequence = [input_sequence]\n",
    "\n",
    "input_sequence = np.array(input_sequence)\n",
    "predicted_output = lr.predict(input_sequence)\n",
    "\n",
    "if predicted_output[0 == 0]:\n",
    "   print(\"HCC\")\n",
    "else:\n",
    "   print(\"Normal\")"
   ]
  },
  {
   "cell_type": "code",
   "execution_count": 21,
   "id": "257eb308",
   "metadata": {
    "execution": {
     "iopub.execute_input": "2024-06-06T17:15:34.454059Z",
     "iopub.status.busy": "2024-06-06T17:15:34.453392Z",
     "iopub.status.idle": "2024-06-06T17:15:34.464986Z",
     "shell.execute_reply": "2024-06-06T17:15:34.463636Z"
    },
    "papermill": {
     "duration": 0.041622,
     "end_time": "2024-06-06T17:15:34.468941",
     "exception": false,
     "start_time": "2024-06-06T17:15:34.427319",
     "status": "completed"
    },
    "tags": []
   },
   "outputs": [],
   "source": [
    "def predict(input_sequence, model):\n",
    "  input_sequence = sc.transofrm(input_sequence)\n",
    "  Input_len = len(input_sequence)\n",
    "  diff = 22277 - Input_len\n",
    "  zeros = [0] * diff\n",
    "  input_sequence.extend(zeros)\n",
    "\n",
    "  input_sequence = [input_sequence]\n",
    "\n",
    "  input_sequence = np.array(input_sequence)\n",
    "  predicted_output = model.predict(input_sequence)\n",
    "\n",
    "  if predicted_output[0 == 0]:\n",
    "    return \"hcc\"\n",
    "  else:\n",
    "    return \"normal\""
   ]
  },
  {
   "cell_type": "code",
   "execution_count": 22,
   "id": "9703e01c",
   "metadata": {
    "execution": {
     "iopub.execute_input": "2024-06-06T17:15:34.516346Z",
     "iopub.status.busy": "2024-06-06T17:15:34.515540Z",
     "iopub.status.idle": "2024-06-06T17:15:34.520901Z",
     "shell.execute_reply": "2024-06-06T17:15:34.519735Z"
    },
    "papermill": {
     "duration": 0.03092,
     "end_time": "2024-06-06T17:15:34.523342",
     "exception": false,
     "start_time": "2024-06-06T17:15:34.492422",
     "status": "completed"
    },
    "tags": []
   },
   "outputs": [],
   "source": [
    "from sklearn.metrics import confusion_matrix, classification_report"
   ]
  },
  {
   "cell_type": "code",
   "execution_count": 23,
   "id": "3a0ad9bc",
   "metadata": {
    "execution": {
     "iopub.execute_input": "2024-06-06T17:15:34.547429Z",
     "iopub.status.busy": "2024-06-06T17:15:34.546996Z",
     "iopub.status.idle": "2024-06-06T17:15:34.563457Z",
     "shell.execute_reply": "2024-06-06T17:15:34.562197Z"
    },
    "papermill": {
     "duration": 0.031827,
     "end_time": "2024-06-06T17:15:34.566125",
     "exception": false,
     "start_time": "2024-06-06T17:15:34.534298",
     "status": "completed"
    },
    "tags": []
   },
   "outputs": [
    {
     "name": "stdout",
     "output_type": "stream",
     "text": [
      "              precision    recall  f1-score   support\n",
      "\n",
      "           0       1.00      0.94      0.97        52\n",
      "           1       0.94      1.00      0.97        45\n",
      "\n",
      "    accuracy                           0.97        97\n",
      "   macro avg       0.97      0.97      0.97        97\n",
      "weighted avg       0.97      0.97      0.97        97\n",
      "\n"
     ]
    }
   ],
   "source": [
    "print(classification_report(y_true, y_pred))"
   ]
  },
  {
   "cell_type": "code",
   "execution_count": 24,
   "id": "d0dac7be",
   "metadata": {
    "execution": {
     "iopub.execute_input": "2024-06-06T17:15:34.590738Z",
     "iopub.status.busy": "2024-06-06T17:15:34.590317Z",
     "iopub.status.idle": "2024-06-06T17:15:34.597906Z",
     "shell.execute_reply": "2024-06-06T17:15:34.596657Z"
    },
    "papermill": {
     "duration": 0.023135,
     "end_time": "2024-06-06T17:15:34.600777",
     "exception": false,
     "start_time": "2024-06-06T17:15:34.577642",
     "status": "completed"
    },
    "tags": []
   },
   "outputs": [],
   "source": [
    "cm = confusion_matrix(y_true, y_pred)"
   ]
  },
  {
   "cell_type": "code",
   "execution_count": 25,
   "id": "e34cf28a",
   "metadata": {
    "execution": {
     "iopub.execute_input": "2024-06-06T17:15:34.625501Z",
     "iopub.status.busy": "2024-06-06T17:15:34.624791Z",
     "iopub.status.idle": "2024-06-06T17:15:34.857750Z",
     "shell.execute_reply": "2024-06-06T17:15:34.856323Z"
    },
    "papermill": {
     "duration": 0.248993,
     "end_time": "2024-06-06T17:15:34.861000",
     "exception": false,
     "start_time": "2024-06-06T17:15:34.612007",
     "status": "completed"
    },
    "tags": []
   },
   "outputs": [
    {
     "data": {
      "image/png": "[encoded data removed]",
      "text/plain": [
       "<Figure size 500x500 with 2 Axes>"
      ]
     },
     "metadata": {},
     "output_type": "display_data"
    }
   ],
   "source": [
    "f, ax =plt.subplots(figsize = (5,5))\n",
    "\n",
    "sns.heatmap(cm,annot = True, linewidths= 0.5, linecolor=\"red\", fmt=\".0f\", ax=ax)\n",
    "plt.xlabel(\"y_pred\")\n",
    "plt.ylabel(\"y_true\")\n",
    "plt.show()"
   ]
  }
 ],
 "metadata": {
  "kaggle": {
   "accelerator": "none",
   "dataSources": [
    {
     "datasetId": 5162136,
     "sourceId": 8623022,
     "sourceType": "datasetVersion"
    }
   ],
   "dockerImageVersionId": 30732,
   "isGpuEnabled": false,
   "isInternetEnabled": false,
   "language": "python",
   "sourceType": "notebook"
  },
  "kernelspec": {
   "display_name": "Python 3",
   "language": "python",
   "name": "python3"
  },
  "language_info": {
   "codemirror_mode": {
    "name": "ipython",
    "version": 3
   },
   "file_extension": ".py",
   "mimetype": "text/x-python",
   "name": "python",
   "nbconvert_exporter": "python",
   "pygments_lexer": "ipython3",
   "version": "3.10.13"
  },
  "papermill": {
   "default_parameters": {},
   "duration": 86.958125,
   "end_time": "2024-06-06T17:15:35.697915",
   "environment_variables": {},
   "exception": null,
   "input_path": "__notebook__.ipynb",
   "output_path": "__notebook__.ipynb",
   "parameters": {},
   "start_time": "2024-06-06T17:14:08.739790",
   "version": "2.5.0"
  }
 },
 "nbformat": 4,
 "nbformat_minor": 5
}
